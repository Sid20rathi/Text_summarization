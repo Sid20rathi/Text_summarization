{
 "cells": [
  {
   "cell_type": "code",
   "execution_count": 1,
   "metadata": {},
   "outputs": [
    {
     "data": {
      "text/plain": [
       "True"
      ]
     },
     "execution_count": 1,
     "metadata": {},
     "output_type": "execute_result"
    }
   ],
   "source": [
    "import os\n",
    "from dotenv import load_dotenv\n",
    "load_dotenv()"
   ]
  },
  {
   "cell_type": "code",
   "execution_count": 10,
   "metadata": {},
   "outputs": [
    {
     "data": {
      "text/plain": [
       "ChatGroq(client=<groq.resources.chat.completions.Completions object at 0x11a478f50>, async_client=<groq.resources.chat.completions.AsyncCompletions object at 0x11a47b110>, model_name='gemma2-9b-it', model_kwargs={}, groq_api_key=SecretStr('**********'))"
      ]
     },
     "execution_count": 10,
     "metadata": {},
     "output_type": "execute_result"
    }
   ],
   "source": [
    "from langchain_groq import ChatGroq\n",
    "api_key = os.getenv(\"Groq_api\")\n",
    "llm = ChatGroq(model=\"gemma2-9b-it\",groq_api_key = api_key)\n",
    "llm"
   ]
  },
  {
   "cell_type": "code",
   "execution_count": 11,
   "metadata": {},
   "outputs": [],
   "source": [
    "from langchain.schema import(\n",
    "    AIMessage,\n",
    "    HumanMessage,\n",
    "    SystemMessage\n",
    ")"
   ]
  },
  {
   "cell_type": "code",
   "execution_count": 12,
   "metadata": {},
   "outputs": [],
   "source": [
    "speech =\"\"\"f you upload your medical report to an AI app, it can explain in simple language, free of any jargon, what it means for your health. But, if you ask the same app to draw an image of someone writing with their Left hand, the app will most likely draw someone writing with their Right hand. Because that is what the training data is dominated by.\n",
    "\n",
    "It shows that while the positive potential of AI is absolutely amazing, there are many biases that we need to think carefully about. That is why I am grateful to my friend, President Macron, for hosting this summit. And for inviting me to co-chair it.\n",
    "\n",
    "Friends,\n",
    "\n",
    "AI is already re-shaping our polity, our economy, our security and even our society. AI is writing the code for humanity in this century. But, it is very different from other technology milestones in human history.\n",
    "\n",
    "AI is developing at an unprecedented scale and speed. And being adopted and deployed even faster. There is also a deep inter-dependence across borders. Therefore, there is a need for collective global efforts to establish governance and standards, that uphold our shared values, address risks, and build trust.\n",
    "\n",
    "But, Governance is not just about managing risks and rivalries. It is also about promoting innovation, and deploying it for the global good. So, we must think deeply and discuss openly about innovation and governance.\n",
    "\n",
    "Governance is also about ensuring access to all, especially in the Global South. It is where the capacities are most lacking - be it compute power, talent, data, or the financial resources.\n",
    "\n",
    "Friends,\n",
    "\n",
    "AI can help transform millions of lives by improving health, education, agriculture and so much more. It can help create a world in which the journey to Sustainable Development Goals becomes easier and faster.\n",
    "\n",
    "To do this, we must pool together resources and talent. We must develop open-source systems that enhance trust and transparency. We must build quality data sets, free from biases. We must democratise technology and create people-centric applications. We must address concerns related to cyber security, disinformation, and deep fakes. And, we must also ensure that technology is rooted in local ecosystems for it to be effective and useful.\n",
    "\n",
    "Friends,\n",
    "\n",
    "Loss of jobs is AI’s most feared disruption. But, history has shown that work does not disappear due to technology. Its nature changes and new types of jobs are created. We need to invest in skilling and re-skilling our people for an AI-driven future.\n",
    "\n",
    "Friends,\n",
    "\n",
    "There is no doubt that the high energy intensity of AI needs to be looked into. This will require green power to fuel its future.\n",
    "\n",
    "India and France have worked together for years through initiatives like the International Solar Alliance to harness the power of the sun. As we advance our partnership to AI, it is a natural progression from sustainability to innovation to shape a smarter and responsible future.\n",
    "\n",
    "At the same time, Sustainable AI does not only mean using clean energy. AI models must also be efficient and sustainable in size, data needs and resource requirements. After all, the human brain manages to compose poetry and design space ships using less power than most lightbulbs.\n",
    "\n",
    "Friends,\n",
    "\n",
    "India has successfully built a Digital Public Infrastructure for over 1.4 billion people at a very low cost. It is built around an open and accessible network. It has regulations, and a wide range of applications to modernize our economy, reform governance and transform the lives of our people.\n",
    "\n",
    "We have unlocked the power of data through our Data Empowerment and Protection Architecture. And, we have made digital commerce democratic and accessible to all. This vision is the foundation of India’s National AI Mission.\n",
    "\n",
    "That is why, during our G20 Presidency, we built a consensus on Harnessing AI Responsibly, for Good, and for All. Today, India leads in AI adoption, and techno-legal solutions on data privacy.\n",
    "\n",
    "We are developing AI applications for public good. We have one of the world’s largest AI talent pools. India is building its own Large Language Model considering our diversity. We also have a unique public-private partnership model for pooling resources like compute power. It is made available to our start-ups and researchers at an affordable cost. And, India is ready to share its experience and expertise to ensure that the AI future is for Good, and for All.\n",
    "\n",
    "\n",
    "\n",
    "\"\"\""
   ]
  },
  {
   "cell_type": "code",
   "execution_count": 13,
   "metadata": {},
   "outputs": [
    {
     "data": {
      "text/plain": [
       "'f you upload your medical report to an AI app, it can explain in simple language, free of any jargon, what it means for your health. But, if you ask the same app to draw an image of someone writing with their Left hand, the app will most likely draw someone writing with their Right hand. Because that is what the training data is dominated by.\\n\\nIt shows that while the positive potential of AI is absolutely amazing, there are many biases that we need to think carefully about. That is why I am grateful to my friend, President Macron, for hosting this summit. And for inviting me to co-chair it.\\n\\nFriends,\\n\\nAI is already re-shaping our polity, our economy, our security and even our society. AI is writing the code for humanity in this century. But, it is very different from other technology milestones in human history.\\n\\nAI is developing at an unprecedented scale and speed. And being adopted and deployed even faster. There is also a deep inter-dependence across borders. Therefore, there is a need for collective global efforts to establish governance and standards, that uphold our shared values, address risks, and build trust.\\n\\nBut, Governance is not just about managing risks and rivalries. It is also about promoting innovation, and deploying it for the global good. So, we must think deeply and discuss openly about innovation and governance.\\n\\nGovernance is also about ensuring access to all, especially in the Global South. It is where the capacities are most lacking - be it compute power, talent, data, or the financial resources.\\n\\nFriends,\\n\\nAI can help transform millions of lives by improving health, education, agriculture and so much more. It can help create a world in which the journey to Sustainable Development Goals becomes easier and faster.\\n\\nTo do this, we must pool together resources and talent. We must develop open-source systems that enhance trust and transparency. We must build quality data sets, free from biases. We must democratise technology and create people-centric applications. We must address concerns related to cyber security, disinformation, and deep fakes. And, we must also ensure that technology is rooted in local ecosystems for it to be effective and useful.\\n\\nFriends,\\n\\nLoss of jobs is AI’s most feared disruption. But, history has shown that work does not disappear due to technology. Its nature changes and new types of jobs are created. We need to invest in skilling and re-skilling our people for an AI-driven future.\\n\\nFriends,\\n\\nThere is no doubt that the high energy intensity of AI needs to be looked into. This will require green power to fuel its future.\\n\\nIndia and France have worked together for years through initiatives like the International Solar Alliance to harness the power of the sun. As we advance our partnership to AI, it is a natural progression from sustainability to innovation to shape a smarter and responsible future.\\n\\nAt the same time, Sustainable AI does not only mean using clean energy. AI models must also be efficient and sustainable in size, data needs and resource requirements. After all, the human brain manages to compose poetry and design space ships using less power than most lightbulbs.\\n\\nFriends,\\n\\nIndia has successfully built a Digital Public Infrastructure for over 1.4 billion people at a very low cost. It is built around an open and accessible network. It has regulations, and a wide range of applications to modernize our economy, reform governance and transform the lives of our people.\\n\\nWe have unlocked the power of data through our Data Empowerment and Protection Architecture. And, we have made digital commerce democratic and accessible to all. This vision is the foundation of India’s National AI Mission.\\n\\nThat is why, during our G20 Presidency, we built a consensus on Harnessing AI Responsibly, for Good, and for All. Today, India leads in AI adoption, and techno-legal solutions on data privacy.\\n\\nWe are developing AI applications for public good. We have one of the world’s largest AI talent pools. India is building its own Large Language Model considering our diversity. We also have a unique public-private partnership model for pooling resources like compute power. It is made available to our start-ups and researchers at an affordable cost. And, India is ready to share its experience and expertise to ensure that the AI future is for Good, and for All.\\n\\n\\n\\n'"
      ]
     },
     "execution_count": 13,
     "metadata": {},
     "output_type": "execute_result"
    }
   ],
   "source": [
    "speech"
   ]
  },
  {
   "cell_type": "code",
   "execution_count": 14,
   "metadata": {},
   "outputs": [],
   "source": [
    "chat_message=[\n",
    "    SystemMessage(content=\"You an expert in summarizing speeches\"),\n",
    "    HumanMessage(content=f\"please provide me a short summary of the following speech:\\n text:{speech}\"),\n",
    "    \n",
    "]"
   ]
  },
  {
   "cell_type": "code",
   "execution_count": 15,
   "metadata": {},
   "outputs": [
    {
     "data": {
      "text/plain": [
       "919"
      ]
     },
     "execution_count": 15,
     "metadata": {},
     "output_type": "execute_result"
    }
   ],
   "source": [
    "llm.get_num_tokens(speech)"
   ]
  },
  {
   "cell_type": "code",
   "execution_count": 16,
   "metadata": {},
   "outputs": [
    {
     "data": {
      "text/plain": [
       "\"This speech emphasizes the transformative potential of Artificial Intelligence (AI) while highlighting the need for responsible and ethical development. \\n\\nThe speaker, likely the Prime Minister of India,  addresses the following key points:\\n\\n* **AI's Impact:** AI is rapidly changing various aspects of society, from politics and economy to security and social structures. Global collaboration is crucial to ensure its ethical and beneficial deployment.\\n* **Governance and Innovation:**  Effective governance is essential for managing AI risks and fostering innovation for the common good. This includes addressing biases in training data, promoting open-source systems, and ensuring equitable access to AI, particularly in the Global South.\\n* **AI for Development:** AI can be a powerful tool for achieving sustainable development goals by improving healthcare, education, agriculture, and other sectors. \\n* **Job Displacement and Reskilling:**  While AI may automate some jobs, it will also create new opportunities. Investing in skilling and re-skilling is crucial for a smooth transition.\\n* **Sustainable AI:** AI development should consider its environmental impact, using clean energy and designing efficient models. \\n* **India's AI Vision:** India is leveraging its digital infrastructure and AI talent to develop applications for public good and promote responsible AI adoption globally.\\n\\nThe speech concludes with India's commitment to leading the responsible development and deployment of AI for the benefit of all.\\n\\n\\n\\n\""
      ]
     },
     "execution_count": 16,
     "metadata": {},
     "output_type": "execute_result"
    }
   ],
   "source": [
    "llm(chat_message).content"
   ]
  },
  {
   "cell_type": "code",
   "execution_count": null,
   "metadata": {},
   "outputs": [],
   "source": []
  },
  {
   "cell_type": "markdown",
   "metadata": {},
   "source": [
    "## Prompt template Summarization"
   ]
  },
  {
   "cell_type": "code",
   "execution_count": 17,
   "metadata": {},
   "outputs": [],
   "source": [
    "from langchain.chains import LLMChain\n",
    "from langchain import PromptTemplate\n",
    "\n",
    "generic_template = \"\"\"\n",
    "write a very short summary of the following speech:\n",
    "Speech:{speech}\n",
    "Translate the summary to {language}\n",
    "\"\"\""
   ]
  },
  {
   "cell_type": "code",
   "execution_count": 18,
   "metadata": {},
   "outputs": [
    {
     "data": {
      "text/plain": [
       "PromptTemplate(input_variables=['language', 'speech'], input_types={}, partial_variables={}, template='\\nwrite a very short summary of the following speech:\\nSpeech:{speech}\\nTranslate the summary to {language}\\n')"
      ]
     },
     "execution_count": 18,
     "metadata": {},
     "output_type": "execute_result"
    }
   ],
   "source": [
    "prompt = PromptTemplate(\n",
    "    input_variables=[\"speech\",'language'],\n",
    "    template = generic_template\n",
    ")\n",
    "prompt"
   ]
  },
  {
   "cell_type": "code",
   "execution_count": 21,
   "metadata": {},
   "outputs": [],
   "source": [
    "complete_prompt =prompt.format(speech=speech,language=\"German\")"
   ]
  },
  {
   "cell_type": "code",
   "execution_count": 22,
   "metadata": {},
   "outputs": [
    {
     "data": {
      "text/plain": [
       "942"
      ]
     },
     "execution_count": 22,
     "metadata": {},
     "output_type": "execute_result"
    }
   ],
   "source": [
    "llm.get_num_tokens(complete_prompt)"
   ]
  },
  {
   "cell_type": "code",
   "execution_count": 25,
   "metadata": {},
   "outputs": [
    {
     "data": {
      "text/plain": [
       "'यह भाषण आर्टिफिशियल इंटेलिजेंस (AI) के आशयों और चुनौतियों पर केंद्रित है। भाषणकार बताते हैं कि AI अद्भुत क्षमता रखता है, लेकिन बायस और नैतिक विचारों पर भी ध्यान देना चाहिए। \\n\\nवह वैश्विक सहयोग, नवाचार को बढ़ावा देने और AI तक सभी के लिए पहुँच सुनिश्चित करने की आवश्यकता पर जोर देते हैं।  देशों को AI के नकारात्मक प्रभावों, जैसे नौकरी छूटना और ऊर्जा की खपत, से निपटने के लिए तैयार रहना होगा।\\n\\nभाषणकार भारत के अनुभव को साझा करते हैं, जो अपने डिजिटल पब्लिक इंफ्रास्ट्रक्चर और AI के लिए राष्ट्रीय मिशन के माध्यम से AI को जिम्मेदारी से अपनाने पर ध्यान केंद्रित कर रहा है। \\n\\n\\n'"
      ]
     },
     "execution_count": 25,
     "metadata": {},
     "output_type": "execute_result"
    }
   ],
   "source": [
    "llm_chain = LLMChain(llm=llm, prompt=prompt)\n",
    "summary = llm_chain.run({'speech':speech,'language':'hindi'})\n",
    "summary"
   ]
  },
  {
   "cell_type": "code",
   "execution_count": null,
   "metadata": {},
   "outputs": [],
   "source": []
  },
  {
   "cell_type": "markdown",
   "metadata": {},
   "source": [
    "## stuff Document Chain"
   ]
  },
  {
   "cell_type": "code",
   "execution_count": null,
   "metadata": {},
   "outputs": [],
   "source": []
  },
  {
   "cell_type": "code",
   "execution_count": null,
   "metadata": {},
   "outputs": [],
   "source": []
  },
  {
   "cell_type": "code",
   "execution_count": null,
   "metadata": {},
   "outputs": [],
   "source": []
  },
  {
   "cell_type": "code",
   "execution_count": null,
   "metadata": {},
   "outputs": [],
   "source": []
  },
  {
   "cell_type": "code",
   "execution_count": null,
   "metadata": {},
   "outputs": [],
   "source": []
  }
 ],
 "metadata": {
  "kernelspec": {
   "display_name": "Python 3",
   "language": "python",
   "name": "python3"
  },
  "language_info": {
   "codemirror_mode": {
    "name": "ipython",
    "version": 3
   },
   "file_extension": ".py",
   "mimetype": "text/x-python",
   "name": "python",
   "nbconvert_exporter": "python",
   "pygments_lexer": "ipython3",
   "version": "3.13.2"
  }
 },
 "nbformat": 4,
 "nbformat_minor": 2
}
