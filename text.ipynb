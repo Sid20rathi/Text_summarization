{
 "cells": [
  {
   "cell_type": "code",
   "execution_count": 2,
   "metadata": {},
   "outputs": [
    {
     "data": {
      "text/plain": [
       "True"
      ]
     },
     "execution_count": 2,
     "metadata": {},
     "output_type": "execute_result"
    }
   ],
   "source": [
    "import os\n",
    "from dotenv import load_dotenv\n",
    "load_dotenv()"
   ]
  },
  {
   "cell_type": "code",
   "execution_count": 3,
   "metadata": {},
   "outputs": [
    {
     "data": {
      "text/plain": [
       "ChatGroq(client=<groq.resources.chat.completions.Completions object at 0x10f161940>, async_client=<groq.resources.chat.completions.AsyncCompletions object at 0x10f163cb0>, model_name='gemma2-9b-it', model_kwargs={}, groq_api_key=SecretStr('**********'))"
      ]
     },
     "execution_count": 3,
     "metadata": {},
     "output_type": "execute_result"
    }
   ],
   "source": [
    "from langchain_groq import ChatGroq\n",
    "api_key = os.getenv(\"Groq_api\")\n",
    "llm = ChatGroq(model=\"gemma2-9b-it\",groq_api_key = api_key)\n",
    "llm"
   ]
  },
  {
   "cell_type": "code",
   "execution_count": 4,
   "metadata": {},
   "outputs": [],
   "source": [
    "from langchain.schema import(\n",
    "    AIMessage,\n",
    "    HumanMessage,\n",
    "    SystemMessage\n",
    ")"
   ]
  },
  {
   "cell_type": "code",
   "execution_count": 5,
   "metadata": {},
   "outputs": [],
   "source": [
    "speech =\"\"\"f you upload your medical report to an AI app, it can explain in simple language, free of any jargon, what it means for your health. But, if you ask the same app to draw an image of someone writing with their Left hand, the app will most likely draw someone writing with their Right hand. Because that is what the training data is dominated by.\n",
    "\n",
    "It shows that while the positive potential of AI is absolutely amazing, there are many biases that we need to think carefully about. That is why I am grateful to my friend, President Macron, for hosting this summit. And for inviting me to co-chair it.\n",
    "\n",
    "Friends,\n",
    "\n",
    "AI is already re-shaping our polity, our economy, our security and even our society. AI is writing the code for humanity in this century. But, it is very different from other technology milestones in human history.\n",
    "\n",
    "AI is developing at an unprecedented scale and speed. And being adopted and deployed even faster. There is also a deep inter-dependence across borders. Therefore, there is a need for collective global efforts to establish governance and standards, that uphold our shared values, address risks, and build trust.\n",
    "\n",
    "But, Governance is not just about managing risks and rivalries. It is also about promoting innovation, and deploying it for the global good. So, we must think deeply and discuss openly about innovation and governance.\n",
    "\n",
    "Governance is also about ensuring access to all, especially in the Global South. It is where the capacities are most lacking - be it compute power, talent, data, or the financial resources.\n",
    "\n",
    "Friends,\n",
    "\n",
    "AI can help transform millions of lives by improving health, education, agriculture and so much more. It can help create a world in which the journey to Sustainable Development Goals becomes easier and faster.\n",
    "\n",
    "To do this, we must pool together resources and talent. We must develop open-source systems that enhance trust and transparency. We must build quality data sets, free from biases. We must democratise technology and create people-centric applications. We must address concerns related to cyber security, disinformation, and deep fakes. And, we must also ensure that technology is rooted in local ecosystems for it to be effective and useful.\n",
    "\n",
    "Friends,\n",
    "\n",
    "Loss of jobs is AI’s most feared disruption. But, history has shown that work does not disappear due to technology. Its nature changes and new types of jobs are created. We need to invest in skilling and re-skilling our people for an AI-driven future.\n",
    "\n",
    "Friends,\n",
    "\n",
    "There is no doubt that the high energy intensity of AI needs to be looked into. This will require green power to fuel its future.\n",
    "\n",
    "India and France have worked together for years through initiatives like the International Solar Alliance to harness the power of the sun. As we advance our partnership to AI, it is a natural progression from sustainability to innovation to shape a smarter and responsible future.\n",
    "\n",
    "At the same time, Sustainable AI does not only mean using clean energy. AI models must also be efficient and sustainable in size, data needs and resource requirements. After all, the human brain manages to compose poetry and design space ships using less power than most lightbulbs.\n",
    "\n",
    "Friends,\n",
    "\n",
    "India has successfully built a Digital Public Infrastructure for over 1.4 billion people at a very low cost. It is built around an open and accessible network. It has regulations, and a wide range of applications to modernize our economy, reform governance and transform the lives of our people.\n",
    "\n",
    "We have unlocked the power of data through our Data Empowerment and Protection Architecture. And, we have made digital commerce democratic and accessible to all. This vision is the foundation of India’s National AI Mission.\n",
    "\n",
    "That is why, during our G20 Presidency, we built a consensus on Harnessing AI Responsibly, for Good, and for All. Today, India leads in AI adoption, and techno-legal solutions on data privacy.\n",
    "\n",
    "We are developing AI applications for public good. We have one of the world’s largest AI talent pools. India is building its own Large Language Model considering our diversity. We also have a unique public-private partnership model for pooling resources like compute power. It is made available to our start-ups and researchers at an affordable cost. And, India is ready to share its experience and expertise to ensure that the AI future is for Good, and for All.\n",
    "\n",
    "\n",
    "\n",
    "\"\"\""
   ]
  },
  {
   "cell_type": "code",
   "execution_count": 6,
   "metadata": {},
   "outputs": [
    {
     "data": {
      "text/plain": [
       "'f you upload your medical report to an AI app, it can explain in simple language, free of any jargon, what it means for your health. But, if you ask the same app to draw an image of someone writing with their Left hand, the app will most likely draw someone writing with their Right hand. Because that is what the training data is dominated by.\\n\\nIt shows that while the positive potential of AI is absolutely amazing, there are many biases that we need to think carefully about. That is why I am grateful to my friend, President Macron, for hosting this summit. And for inviting me to co-chair it.\\n\\nFriends,\\n\\nAI is already re-shaping our polity, our economy, our security and even our society. AI is writing the code for humanity in this century. But, it is very different from other technology milestones in human history.\\n\\nAI is developing at an unprecedented scale and speed. And being adopted and deployed even faster. There is also a deep inter-dependence across borders. Therefore, there is a need for collective global efforts to establish governance and standards, that uphold our shared values, address risks, and build trust.\\n\\nBut, Governance is not just about managing risks and rivalries. It is also about promoting innovation, and deploying it for the global good. So, we must think deeply and discuss openly about innovation and governance.\\n\\nGovernance is also about ensuring access to all, especially in the Global South. It is where the capacities are most lacking - be it compute power, talent, data, or the financial resources.\\n\\nFriends,\\n\\nAI can help transform millions of lives by improving health, education, agriculture and so much more. It can help create a world in which the journey to Sustainable Development Goals becomes easier and faster.\\n\\nTo do this, we must pool together resources and talent. We must develop open-source systems that enhance trust and transparency. We must build quality data sets, free from biases. We must democratise technology and create people-centric applications. We must address concerns related to cyber security, disinformation, and deep fakes. And, we must also ensure that technology is rooted in local ecosystems for it to be effective and useful.\\n\\nFriends,\\n\\nLoss of jobs is AI’s most feared disruption. But, history has shown that work does not disappear due to technology. Its nature changes and new types of jobs are created. We need to invest in skilling and re-skilling our people for an AI-driven future.\\n\\nFriends,\\n\\nThere is no doubt that the high energy intensity of AI needs to be looked into. This will require green power to fuel its future.\\n\\nIndia and France have worked together for years through initiatives like the International Solar Alliance to harness the power of the sun. As we advance our partnership to AI, it is a natural progression from sustainability to innovation to shape a smarter and responsible future.\\n\\nAt the same time, Sustainable AI does not only mean using clean energy. AI models must also be efficient and sustainable in size, data needs and resource requirements. After all, the human brain manages to compose poetry and design space ships using less power than most lightbulbs.\\n\\nFriends,\\n\\nIndia has successfully built a Digital Public Infrastructure for over 1.4 billion people at a very low cost. It is built around an open and accessible network. It has regulations, and a wide range of applications to modernize our economy, reform governance and transform the lives of our people.\\n\\nWe have unlocked the power of data through our Data Empowerment and Protection Architecture. And, we have made digital commerce democratic and accessible to all. This vision is the foundation of India’s National AI Mission.\\n\\nThat is why, during our G20 Presidency, we built a consensus on Harnessing AI Responsibly, for Good, and for All. Today, India leads in AI adoption, and techno-legal solutions on data privacy.\\n\\nWe are developing AI applications for public good. We have one of the world’s largest AI talent pools. India is building its own Large Language Model considering our diversity. We also have a unique public-private partnership model for pooling resources like compute power. It is made available to our start-ups and researchers at an affordable cost. And, India is ready to share its experience and expertise to ensure that the AI future is for Good, and for All.\\n\\n\\n\\n'"
      ]
     },
     "execution_count": 6,
     "metadata": {},
     "output_type": "execute_result"
    }
   ],
   "source": [
    "speech"
   ]
  },
  {
   "cell_type": "code",
   "execution_count": 7,
   "metadata": {},
   "outputs": [],
   "source": [
    "chat_message=[\n",
    "    SystemMessage(content=\"You an expert in summarizing speeches\"),\n",
    "    HumanMessage(content=f\"please provide me a short summary of the following speech:\\n text:{speech}\"),\n",
    "    \n",
    "]"
   ]
  },
  {
   "cell_type": "code",
   "execution_count": 8,
   "metadata": {},
   "outputs": [
    {
     "name": "stderr",
     "output_type": "stream",
     "text": [
      "/Users/siddhantrathi/Desktop/text_summerization/venu/lib/python3.13/site-packages/tqdm/auto.py:21: TqdmWarning: IProgress not found. Please update jupyter and ipywidgets. See https://ipywidgets.readthedocs.io/en/stable/user_install.html\n",
      "  from .autonotebook import tqdm as notebook_tqdm\n",
      "None of PyTorch, TensorFlow >= 2.0, or Flax have been found. Models won't be available and only tokenizers, configuration and file/data utilities can be used.\n"
     ]
    },
    {
     "data": {
      "text/plain": [
       "919"
      ]
     },
     "execution_count": 8,
     "metadata": {},
     "output_type": "execute_result"
    }
   ],
   "source": [
    "llm.get_num_tokens(speech)"
   ]
  },
  {
   "cell_type": "code",
   "execution_count": 9,
   "metadata": {},
   "outputs": [
    {
     "name": "stderr",
     "output_type": "stream",
     "text": [
      "/var/folders/59/69q1v4892n7cc021jv93kh5m0000gn/T/ipykernel_15307/1339791998.py:1: LangChainDeprecationWarning: The method `BaseChatModel.__call__` was deprecated in langchain-core 0.1.7 and will be removed in 1.0. Use :meth:`~invoke` instead.\n",
      "  llm(chat_message).content\n"
     ]
    },
    {
     "data": {
      "text/plain": [
       "\"This speech highlights the transformative potential of AI while emphasizing the need for responsible and ethical development. \\n\\nThe speaker acknowledges the biases inherent in AI systems and stresses the importance of global collaboration to establish governance frameworks that promote innovation, address risks, and ensure equitable access. \\n\\nThe speech calls for open-source systems, diverse and bias-free datasets, and a focus on sustainable AI development, both in terms of energy consumption and resource efficiency. \\n\\nThe speaker uses India's experience in building a robust digital infrastructure and promoting AI for public good as a model for global collaboration, urging the international community to work together to ensure that AI benefits all of humanity. \\n\\n\\nKey points:\\n\\n* **AI's potential and risks:** AI offers immense possibilities but also presents challenges like bias and job displacement.\\n* **Global governance:** International cooperation is crucial for establishing ethical guidelines and mitigating risks.\\n* **Sustainable AI:** Energy efficiency and responsible resource use are essential for sustainable AI development.\\n* **Inclusive AI:** Access to AI technology and its benefits should be equitable for all, especially in the Global South.\\n* **India's role:** India is positioned as a leader in AI adoption and responsible development, offering its expertise and experience to the global community. \\n\\n\""
      ]
     },
     "execution_count": 9,
     "metadata": {},
     "output_type": "execute_result"
    }
   ],
   "source": [
    "llm(chat_message).content"
   ]
  },
  {
   "cell_type": "code",
   "execution_count": null,
   "metadata": {},
   "outputs": [],
   "source": []
  },
  {
   "cell_type": "markdown",
   "metadata": {},
   "source": [
    "## Prompt template Summarization"
   ]
  },
  {
   "cell_type": "code",
   "execution_count": 10,
   "metadata": {},
   "outputs": [],
   "source": [
    "from langchain.chains import LLMChain\n",
    "from langchain import PromptTemplate\n",
    "\n",
    "generic_template = \"\"\"\n",
    "write a very short summary of the following speech:\n",
    "Speech:{speech}\n",
    "Translate the summary to {language}\n",
    "\"\"\""
   ]
  },
  {
   "cell_type": "code",
   "execution_count": 11,
   "metadata": {},
   "outputs": [
    {
     "data": {
      "text/plain": [
       "PromptTemplate(input_variables=['language', 'speech'], input_types={}, partial_variables={}, template='\\nwrite a very short summary of the following speech:\\nSpeech:{speech}\\nTranslate the summary to {language}\\n')"
      ]
     },
     "execution_count": 11,
     "metadata": {},
     "output_type": "execute_result"
    }
   ],
   "source": [
    "prompt = PromptTemplate(\n",
    "    input_variables=[\"speech\",'language'],\n",
    "    template = generic_template\n",
    ")\n",
    "prompt"
   ]
  },
  {
   "cell_type": "code",
   "execution_count": 12,
   "metadata": {},
   "outputs": [],
   "source": [
    "complete_prompt =prompt.format(speech=speech,language=\"German\")"
   ]
  },
  {
   "cell_type": "code",
   "execution_count": 13,
   "metadata": {},
   "outputs": [
    {
     "data": {
      "text/plain": [
       "942"
      ]
     },
     "execution_count": 13,
     "metadata": {},
     "output_type": "execute_result"
    }
   ],
   "source": [
    "llm.get_num_tokens(complete_prompt)"
   ]
  },
  {
   "cell_type": "code",
   "execution_count": 14,
   "metadata": {},
   "outputs": [
    {
     "name": "stderr",
     "output_type": "stream",
     "text": [
      "/var/folders/59/69q1v4892n7cc021jv93kh5m0000gn/T/ipykernel_15307/2743151389.py:1: LangChainDeprecationWarning: The class `LLMChain` was deprecated in LangChain 0.1.17 and will be removed in 1.0. Use :meth:`~RunnableSequence, e.g., `prompt | llm`` instead.\n",
      "  llm_chain = LLMChain(llm=llm, prompt=prompt)\n",
      "/var/folders/59/69q1v4892n7cc021jv93kh5m0000gn/T/ipykernel_15307/2743151389.py:2: LangChainDeprecationWarning: The method `Chain.run` was deprecated in langchain 0.1.0 and will be removed in 1.0. Use :meth:`~invoke` instead.\n",
      "  summary = llm_chain.run({'speech':speech,'language':'hindi'})\n"
     ]
    },
    {
     "data": {
      "text/plain": [
       "'यह भाषण कृत्रिम बुद्धिमत्ता (AI) के लाभों और चुनौतियों पर केंद्रित है। भाषण के अनुसार, AI हमारे जीवन को बदलने की क्षमता रखता है, लेकिन इसके साथ-साथ बायस और नैतिक चिंताएं भी जुड़ी हैं। \\n\\nइसलिए, वैश्विक स्तर पर AI का  नियंत्रण और मानकीकरण महत्वपूर्ण है। भाषण में AI के विकास के लिए खुले स्रोत, नैतिक डेटासेट, और सभी के लिए पहुँच सुनिश्चित करने पर जोर दिया गया है।  \\n\\nभारत अपने डिजिटल इंफ्रास्ट्रक्चर और AI क्षमता के बारे में बात करता है और  AI के जिम्मेदार और लाभकारी उपयोग के लिए वैश्विक सहयोग का आह्वान करता है।  \\n\\n\\n\\n'"
      ]
     },
     "execution_count": 14,
     "metadata": {},
     "output_type": "execute_result"
    }
   ],
   "source": [
    "llm_chain = LLMChain(llm=llm, prompt=prompt)\n",
    "summary = llm_chain.run({'speech':speech,'language':'hindi'})\n",
    "summary"
   ]
  },
  {
   "cell_type": "code",
   "execution_count": null,
   "metadata": {},
   "outputs": [],
   "source": []
  },
  {
   "cell_type": "markdown",
   "metadata": {},
   "source": [
    "## stuff Document Chain"
   ]
  },
  {
   "cell_type": "code",
   "execution_count": 15,
   "metadata": {},
   "outputs": [
    {
     "ename": "ValueError",
     "evalue": "File path text.pdf is not a valid file or url",
     "output_type": "error",
     "traceback": [
      "\u001b[31m---------------------------------------------------------------------------\u001b[39m",
      "\u001b[31mValueError\u001b[39m                                Traceback (most recent call last)",
      "\u001b[36mCell\u001b[39m\u001b[36m \u001b[39m\u001b[32mIn[15]\u001b[39m\u001b[32m, line 2\u001b[39m\n\u001b[32m      1\u001b[39m \u001b[38;5;28;01mfrom\u001b[39;00m\u001b[38;5;250m \u001b[39m\u001b[34;01mlangchain_community\u001b[39;00m\u001b[34;01m.\u001b[39;00m\u001b[34;01mdocument_loaders\u001b[39;00m\u001b[38;5;250m \u001b[39m\u001b[38;5;28;01mimport\u001b[39;00m PyPDFLoader\n\u001b[32m----> \u001b[39m\u001b[32m2\u001b[39m loader = \u001b[43mPyPDFLoader\u001b[49m\u001b[43m(\u001b[49m\u001b[33;43m\"\u001b[39;49m\u001b[33;43mtext.pdf\u001b[39;49m\u001b[33;43m\"\u001b[39;49m\u001b[43m)\u001b[49m\n\u001b[32m      3\u001b[39m pages = loader.load_and_split()\n",
      "\u001b[36mFile \u001b[39m\u001b[32m~/Desktop/text_summerization/venu/lib/python3.13/site-packages/langchain_community/document_loaders/pdf.py:281\u001b[39m, in \u001b[36mPyPDFLoader.__init__\u001b[39m\u001b[34m(self, file_path, password, headers, extract_images, mode, images_parser, images_inner_format, pages_delimiter, extraction_mode, extraction_kwargs)\u001b[39m\n\u001b[32m    238\u001b[39m \u001b[38;5;28;01mdef\u001b[39;00m\u001b[38;5;250m \u001b[39m\u001b[34m__init__\u001b[39m(\n\u001b[32m    239\u001b[39m     \u001b[38;5;28mself\u001b[39m,\n\u001b[32m    240\u001b[39m     file_path: Union[\u001b[38;5;28mstr\u001b[39m, PurePath],\n\u001b[32m   (...)\u001b[39m\u001b[32m    250\u001b[39m     extraction_kwargs: Optional[\u001b[38;5;28mdict\u001b[39m] = \u001b[38;5;28;01mNone\u001b[39;00m,\n\u001b[32m    251\u001b[39m ) -> \u001b[38;5;28;01mNone\u001b[39;00m:\n\u001b[32m    252\u001b[39m \u001b[38;5;250m    \u001b[39m\u001b[33;03m\"\"\"Initialize with a file path.\u001b[39;00m\n\u001b[32m    253\u001b[39m \n\u001b[32m    254\u001b[39m \u001b[33;03m    Args:\u001b[39;00m\n\u001b[32m   (...)\u001b[39m\u001b[32m    279\u001b[39m \u001b[33;03m        `aload` methods to retrieve parsed documents with content and metadata.\u001b[39;00m\n\u001b[32m    280\u001b[39m \u001b[33;03m    \"\"\"\u001b[39;00m\n\u001b[32m--> \u001b[39m\u001b[32m281\u001b[39m     \u001b[38;5;28;43msuper\u001b[39;49m\u001b[43m(\u001b[49m\u001b[43m)\u001b[49m\u001b[43m.\u001b[49m\u001b[34;43m__init__\u001b[39;49m\u001b[43m(\u001b[49m\u001b[43mfile_path\u001b[49m\u001b[43m,\u001b[49m\u001b[43m \u001b[49m\u001b[43mheaders\u001b[49m\u001b[43m=\u001b[49m\u001b[43mheaders\u001b[49m\u001b[43m)\u001b[49m\n\u001b[32m    282\u001b[39m     \u001b[38;5;28mself\u001b[39m.parser = PyPDFParser(\n\u001b[32m    283\u001b[39m         password=password,\n\u001b[32m    284\u001b[39m         mode=mode,\n\u001b[32m   (...)\u001b[39m\u001b[32m    290\u001b[39m         extraction_kwargs=extraction_kwargs,\n\u001b[32m    291\u001b[39m     )\n",
      "\u001b[36mFile \u001b[39m\u001b[32m~/Desktop/text_summerization/venu/lib/python3.13/site-packages/langchain_community/document_loaders/pdf.py:140\u001b[39m, in \u001b[36mBasePDFLoader.__init__\u001b[39m\u001b[34m(self, file_path, headers)\u001b[39m\n\u001b[32m    138\u001b[39m         \u001b[38;5;28mself\u001b[39m.file_path = \u001b[38;5;28mstr\u001b[39m(temp_pdf)\n\u001b[32m    139\u001b[39m \u001b[38;5;28;01melif\u001b[39;00m \u001b[38;5;129;01mnot\u001b[39;00m os.path.isfile(\u001b[38;5;28mself\u001b[39m.file_path):\n\u001b[32m--> \u001b[39m\u001b[32m140\u001b[39m     \u001b[38;5;28;01mraise\u001b[39;00m \u001b[38;5;167;01mValueError\u001b[39;00m(\u001b[33m\"\u001b[39m\u001b[33mFile path \u001b[39m\u001b[38;5;132;01m%s\u001b[39;00m\u001b[33m is not a valid file or url\u001b[39m\u001b[33m\"\u001b[39m % \u001b[38;5;28mself\u001b[39m.file_path)\n",
      "\u001b[31mValueError\u001b[39m: File path text.pdf is not a valid file or url"
     ]
    }
   ],
   "source": [
    "from langchain_community.document_loaders import PyPDFLoader\n",
    "loader = PyPDFLoader(\"text.pdf\")\n",
    "pages = loader.load_and_split()"
   ]
  },
  {
   "cell_type": "code",
   "execution_count": 16,
   "metadata": {},
   "outputs": [],
   "source": [
    "template =\"\"\"write a small summary of the following speech,\n",
    "speech;{text}\n",
    "\"\"\"\n",
    "prompt = PromptTemplate(\n",
    "    input_variables=[\"text\"],\n",
    "    template=template,\n",
    ")"
   ]
  },
  {
   "cell_type": "markdown",
   "metadata": {},
   "source": []
  },
  {
   "cell_type": "code",
   "execution_count": 17,
   "metadata": {},
   "outputs": [],
   "source": [
    "from langchain.chains.summarize import load_summarize_chain"
   ]
  },
  {
   "cell_type": "code",
   "execution_count": 18,
   "metadata": {},
   "outputs": [],
   "source": [
    "chain = load_summarize_chain(llm,chain_type=\"stuff\",prompt=prompt,verbose=True)"
   ]
  },
  {
   "cell_type": "code",
   "execution_count": 19,
   "metadata": {},
   "outputs": [
    {
     "ename": "NameError",
     "evalue": "name 'docs' is not defined",
     "output_type": "error",
     "traceback": [
      "\u001b[31m---------------------------------------------------------------------------\u001b[39m",
      "\u001b[31mNameError\u001b[39m                                 Traceback (most recent call last)",
      "\u001b[36mCell\u001b[39m\u001b[36m \u001b[39m\u001b[32mIn[19]\u001b[39m\u001b[32m, line 1\u001b[39m\n\u001b[32m----> \u001b[39m\u001b[32m1\u001b[39m output = chain.run(\u001b[43mdocs\u001b[49m)\n\u001b[32m      2\u001b[39m output\n",
      "\u001b[31mNameError\u001b[39m: name 'docs' is not defined"
     ]
    }
   ],
   "source": [
    "output = chain.run(docs)\n",
    "output"
   ]
  },
  {
   "cell_type": "code",
   "execution_count": null,
   "metadata": {},
   "outputs": [],
   "source": []
  }
 ],
 "metadata": {
  "kernelspec": {
   "display_name": "Python 3",
   "language": "python",
   "name": "python3"
  },
  "language_info": {
   "codemirror_mode": {
    "name": "ipython",
    "version": 3
   },
   "file_extension": ".py",
   "mimetype": "text/x-python",
   "name": "python",
   "nbconvert_exporter": "python",
   "pygments_lexer": "ipython3",
   "version": "3.13.2"
  }
 },
 "nbformat": 4,
 "nbformat_minor": 2
}
